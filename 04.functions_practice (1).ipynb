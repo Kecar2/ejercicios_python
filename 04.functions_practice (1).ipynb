{
 "cells": [
  {
   "cell_type": "markdown",
   "metadata": {},
   "source": [
    "# Funciones: práctica y ejercicios"
   ]
  },
  {
   "cell_type": "markdown",
   "metadata": {},
   "source": [
    "**NOTAS**\n",
    " - Hay muchas formas de resolver cada problema, encuentra la tuya.\n",
    " - Crea las celdas extra que necesites.\n",
    " - Recuerda que una celda puede ser de tipo Código, o de tipo Markdown. Utiliza las segundas para escribir texto y explicaciones si lo precisas.\n",
    " - Intenta crear variables a la hora de resolver los ejercicios.\n",
    " - Puedes apoyarte en internet: todos los programadores lo hacemos a diario."
   ]
  },
  {
   "cell_type": "markdown",
   "metadata": {},
   "source": [
    "**NOTA**: ejecuta tus funciones para ver que operan como esperas"
   ]
  },
  {
   "cell_type": "markdown",
   "metadata": {},
   "source": [
    "**1. Crea una función que, dada una frase, devuelva la misma frase gritada: en mayúsculas y añadiendo \"!!\" al final.**"
   ]
  },
  {
   "cell_type": "code",
   "execution_count": 7,
   "metadata": {},
   "outputs": [
    {
     "name": "stdout",
     "output_type": "stream",
     "text": [
      "Hoal\n"
     ]
    }
   ],
   "source": [
    "frase = input()"
   ]
  },
  {
   "cell_type": "code",
   "execution_count": 8,
   "metadata": {},
   "outputs": [],
   "source": [
    "def get_upper_text(frase): #Esta función pide entrada un `str` y devuelve un `str`\n",
    "    frase = frase.upper() + \"!!\"\n",
    "    return frase"
   ]
  },
  {
   "cell_type": "code",
   "execution_count": 9,
   "metadata": {},
   "outputs": [
    {
     "data": {
      "text/plain": [
       "'HOAL!!'"
      ]
     },
     "execution_count": 9,
     "metadata": {},
     "output_type": "execute_result"
    }
   ],
   "source": [
    "get_upper_text(frase)"
   ]
  },
  {
   "cell_type": "markdown",
   "metadata": {},
   "source": [
    "**2. Crea una función que decida si un número entero es múltiplo de 10.**"
   ]
  },
  {
   "cell_type": "code",
   "execution_count": 24,
   "metadata": {},
   "outputs": [],
   "source": [
    "numero = 20\n",
    "multiplo = 10"
   ]
  },
  {
   "cell_type": "code",
   "execution_count": 3,
   "metadata": {},
   "outputs": [],
   "source": [
    "def confirmar_multiplo(numero, multiplo): #Esta función pide entrada 2 números y devuelve un booleano (True / False)\n",
    "    if type(numero) is not int:\n",
    "        print(f'El parámetro {numero} debe ser entero') # Esto es por si quiero que el usuario aproveche mejor la función.\n",
    "    elif type(numero) is int:\n",
    "        if numero % multiplo == 0:\n",
    "            print(f\"El número {numero} es múltiplo de {multiplo}\")\n",
    "            return True\n",
    "        else:\n",
    "            print(f\"El número {numero} ¡NO!es múltiplo de {multiplo}\")\n",
    "            return False"
   ]
  },
  {
   "cell_type": "code",
   "execution_count": 4,
   "metadata": {},
   "outputs": [
    {
     "name": "stdout",
     "output_type": "stream",
     "text": [
      "El parámetro 6.3 debe ser entero\n"
     ]
    }
   ],
   "source": [
    "prueba_multiplo = confirmar_multiplo(6.3, 10)"
   ]
  },
  {
   "cell_type": "code",
   "execution_count": 5,
   "metadata": {},
   "outputs": [
    {
     "data": {
      "text/plain": [
       "NoneType"
      ]
     },
     "execution_count": 5,
     "metadata": {},
     "output_type": "execute_result"
    }
   ],
   "source": [
    "type(prueba_multiplo)"
   ]
  },
  {
   "cell_type": "code",
   "execution_count": 6,
   "metadata": {},
   "outputs": [
    {
     "name": "stdout",
     "output_type": "stream",
     "text": [
      "El número 37 ¡NO!es múltiplo de 10\n"
     ]
    }
   ],
   "source": [
    "prueba_multiplo_2 = confirmar_multiplo(37, 10)"
   ]
  },
  {
   "cell_type": "code",
   "execution_count": 7,
   "metadata": {},
   "outputs": [
    {
     "data": {
      "text/plain": [
       "bool"
      ]
     },
     "execution_count": 7,
     "metadata": {},
     "output_type": "execute_result"
    }
   ],
   "source": [
    "type(prueba_multiplo_2)"
   ]
  },
  {
   "cell_type": "code",
   "execution_count": 8,
   "metadata": {},
   "outputs": [
    {
     "data": {
      "text/plain": [
       "False"
      ]
     },
     "execution_count": 8,
     "metadata": {},
     "output_type": "execute_result"
    }
   ],
   "source": [
    "prueba_multiplo_2 is True"
   ]
  },
  {
   "cell_type": "markdown",
   "metadata": {},
   "source": [
    "**3. Crea una función que calcule cuántas vocales tiene una palabra.**"
   ]
  },
  {
   "cell_type": "code",
   "execution_count": 84,
   "metadata": {},
   "outputs": [],
   "source": [
    "def get_vocales(palabra):\n",
    "    voc = 0\n",
    "    for p in palabra:\n",
    "        if p in 'AEIOUaeiou':\n",
    "            voc = voc + 1 \n",
    "    return voc"
   ]
  },
  {
   "cell_type": "code",
   "execution_count": 87,
   "metadata": {},
   "outputs": [
    {
     "data": {
      "text/plain": [
       "6"
      ]
     },
     "execution_count": 87,
     "metadata": {},
     "output_type": "execute_result"
    }
   ],
   "source": [
    "get_vocales('Juiaaean')"
   ]
  },
  {
   "cell_type": "markdown",
   "metadata": {},
   "source": [
    "**4. Crea una función que, dada una palabra, cuente el número de letras minúsculas que contiene.**"
   ]
  },
  {
   "cell_type": "code",
   "execution_count": 9,
   "metadata": {},
   "outputs": [],
   "source": [
    "def verificador_frase(frase): #Esta función pide entrada un `str` y devuelve un `int`\n",
    "    alfabeto = \"abcdefghijklmnñopqrstuvwxyzABCDEFGHIJKLMNÑOPQRSTUVWXYZáéíóúÁÉÍÓÚäëïöüÄËÏÖÜ\"\n",
    "    i = 0\n",
    "    for letra in frase:\n",
    "        if letra not in alfabeto:\n",
    "            print(\"Revise la palabra, no puede ser alfanúmerica ni con caracteres especiales\")\n",
    "            break\n",
    "        elif letra == letra.lower():\n",
    "                i += 1\n",
    "    return i"
   ]
  },
  {
   "cell_type": "code",
   "execution_count": 10,
   "metadata": {},
   "outputs": [
    {
     "name": "stdout",
     "output_type": "stream",
     "text": [
      "Revise la palabra, no puede ser alfanúmerica ni con caracteres especiales\n"
     ]
    }
   ],
   "source": [
    "prueba_verificador_frase_1 = verificador_frase(\"Chicot@\")"
   ]
  },
  {
   "cell_type": "code",
   "execution_count": 11,
   "metadata": {},
   "outputs": [
    {
     "data": {
      "text/plain": [
       "5"
      ]
     },
     "execution_count": 11,
     "metadata": {},
     "output_type": "execute_result"
    }
   ],
   "source": [
    "prueba_verificador_frase_1"
   ]
  },
  {
   "cell_type": "code",
   "execution_count": 12,
   "metadata": {},
   "outputs": [
    {
     "data": {
      "text/plain": [
       "int"
      ]
     },
     "execution_count": 12,
     "metadata": {},
     "output_type": "execute_result"
    }
   ],
   "source": [
    "type(prueba_verificador_frase_1)"
   ]
  },
  {
   "cell_type": "code",
   "execution_count": 13,
   "metadata": {},
   "outputs": [],
   "source": [
    "prueba_verificador_frase_2 = verificador_frase(\"Chicote\")"
   ]
  },
  {
   "cell_type": "code",
   "execution_count": 14,
   "metadata": {},
   "outputs": [
    {
     "data": {
      "text/plain": [
       "6"
      ]
     },
     "execution_count": 14,
     "metadata": {},
     "output_type": "execute_result"
    }
   ],
   "source": [
    "prueba_verificador_frase_2"
   ]
  },
  {
   "cell_type": "code",
   "execution_count": 18,
   "metadata": {},
   "outputs": [
    {
     "data": {
      "text/plain": [
       "int"
      ]
     },
     "execution_count": 18,
     "metadata": {},
     "output_type": "execute_result"
    }
   ],
   "source": [
    "type(prueba_verificador_frase_2)"
   ]
  },
  {
   "cell_type": "markdown",
   "metadata": {},
   "source": [
    "**5. Crea una función que, dado un número, devuelva el número de divisores que tiene.**"
   ]
  },
  {
   "cell_type": "code",
   "execution_count": 10,
   "metadata": {},
   "outputs": [],
   "source": [
    "def get_numeros_divisores(numero):\n",
    "    contador = 0\n",
    "    print(\"los divisores de \",numero)\n",
    "    for divisor in range(1, numero+1):\n",
    "        if (numero % divisor) == 0 :\n",
    "            print(divisor,\"es divisor\")\n",
    "            contador += 1\n",
    "    print(f\"el numero {numero} tiene {contador} divisores\")"
   ]
  },
  {
   "cell_type": "code",
   "execution_count": 13,
   "metadata": {},
   "outputs": [
    {
     "name": "stdout",
     "output_type": "stream",
     "text": [
      "los divisores de  20\n",
      "1 es divisor\n",
      "2 es divisor\n",
      "4 es divisor\n",
      "5 es divisor\n",
      "10 es divisor\n",
      "20 es divisor\n",
      "el numero 20 tiene 6 divisores\n"
     ]
    }
   ],
   "source": [
    "get_numeros_divisores(20)"
   ]
  },
  {
   "cell_type": "markdown",
   "metadata": {},
   "source": [
    "**6. Crea una función que decida si un número es [primo](https://es.wikipedia.org/wiki/N%C3%BAmero_primo).**"
   ]
  },
  {
   "cell_type": "code",
   "execution_count": 16,
   "metadata": {},
   "outputs": [],
   "source": [
    "def is_prime(numero):\n",
    "    for i in range(2, numero):\n",
    "        if numero % i == 0:\n",
    "            return False\n",
    "    return True"
   ]
  },
  {
   "cell_type": "code",
   "execution_count": 27,
   "metadata": {},
   "outputs": [
    {
     "data": {
      "text/plain": [
       "False"
      ]
     },
     "execution_count": 27,
     "metadata": {},
     "output_type": "execute_result"
    }
   ],
   "source": [
    "is_prime(57)"
   ]
  },
  {
   "cell_type": "markdown",
   "metadata": {},
   "source": [
    "**7. Crea una función que reciba 2 núemros y devuelva el que más divisores tiene.**"
   ]
  },
  {
   "cell_type": "code",
   "execution_count": 19,
   "metadata": {},
   "outputs": [],
   "source": [
    "def mas_divisores(numero_1, numero_2): ##Esta función pide entrada números tipo `int` y devuelve un `int`\n",
    "    Lista_divisores_1 = []\n",
    "    Lista_divisores_2 = []\n",
    "    for i in range(2, numero_1 + 1):\n",
    "        if numero_1 % i == 0:\n",
    "            Lista_divisores_1.append(i)\n",
    "    for j in range(2, numero_2 + 1):\n",
    "        if numero_2 % j == 0:\n",
    "            Lista_divisores_2.append(j)\n",
    "    if len(Lista_divisores_1) > len(Lista_divisores_2):\n",
    "        print(f\"El número {numero_1} tiene más divisores que el número {numero_2}\")\n",
    "        return numero_1\n",
    "    elif len(Lista_divisores_2) > len(Lista_divisores_1):\n",
    "        print(f\"El número {numero_2} tiene más divisores que el número {numero_1}\")\n",
    "        return numero_2\n",
    "    else:\n",
    "        print(\"Ambos números tienen la misma cantidad de divisores.\")\n",
    "        return numero_1 and numero_2"
   ]
  },
  {
   "cell_type": "code",
   "execution_count": 20,
   "metadata": {},
   "outputs": [
    {
     "name": "stdout",
     "output_type": "stream",
     "text": [
      "El número 48 tiene más divisores que el número 27\n"
     ]
    },
    {
     "data": {
      "text/plain": [
       "48"
      ]
     },
     "execution_count": 20,
     "metadata": {},
     "output_type": "execute_result"
    }
   ],
   "source": [
    "mas_divisores(27, 48)"
   ]
  },
  {
   "cell_type": "markdown",
   "metadata": {},
   "source": [
    "**8. Crea una función que, dada una palabra y una letra, devuelva si la palabra contiene o no la letra.**"
   ]
  },
  {
   "cell_type": "code",
   "execution_count": 24,
   "metadata": {},
   "outputs": [],
   "source": [
    "def letter_in_word(letra, palabra):\n",
    "    if letra.lower() in palabra.lower():\n",
    "         print(f\"La palabra '{palabra}' contiene a la letra '{letra}'\")\n",
    "         return True\n",
    "    else:\n",
    "         print(f\"La palabra '{palabra}' ¡NO! contiene a la letra '{letra}'\")\n",
    "         return False"
   ]
  },
  {
   "cell_type": "code",
   "execution_count": 25,
   "metadata": {},
   "outputs": [
    {
     "name": "stdout",
     "output_type": "stream",
     "text": [
      "La palabra 'Jose' ¡NO! contiene a la letra 'i'\n"
     ]
    },
    {
     "data": {
      "text/plain": [
       "False"
      ]
     },
     "execution_count": 25,
     "metadata": {},
     "output_type": "execute_result"
    }
   ],
   "source": [
    "letter_in_word(\"i\", \"Jose\")"
   ]
  },
  {
   "cell_type": "markdown",
   "metadata": {},
   "source": [
    "**9. Crea una función que, dados 3 números, devuelva la máxima diferencia entre dos de ellos.**"
   ]
  },
  {
   "cell_type": "code",
   "execution_count": 26,
   "metadata": {},
   "outputs": [],
   "source": [
    "def calcular_mayor_diferencia(num_1, num_2, num_3): #Esta función pide entrada un número y devuelve un número de tipo `int`\n",
    "    maxima_diferencia = max(num_1, num_2, num_3) - min(num_1, num_2, num_3)\n",
    "    print(f\"La máxima diferencia entre los números dados es {maxima_diferencia}\")\n",
    "    return maxima_diferencia"
   ]
  },
  {
   "cell_type": "code",
   "execution_count": 27,
   "metadata": {},
   "outputs": [
    {
     "name": "stdout",
     "output_type": "stream",
     "text": [
      "La máxima diferencia entre los números dados es 5.000000000000001\n"
     ]
    }
   ],
   "source": [
    "q = calcular_mayor_diferencia(3.3, 8, 8.3)"
   ]
  },
  {
   "cell_type": "markdown",
   "metadata": {},
   "source": [
    "**10. Crea una función que, dada una lista de números, devuelva otra lista sólo con los mayores que 10.**"
   ]
  },
  {
   "cell_type": "code",
   "execution_count": 28,
   "metadata": {},
   "outputs": [],
   "source": [
    "def get_numbers(lista_numeros):\n",
    "    lista_num_mayores = []\n",
    "    for n in lista_numeros:\n",
    "        if n > 10:\n",
    "            lista_num_mayores.append(n)\n",
    "    return lista_num_mayores"
   ]
  },
  {
   "cell_type": "code",
   "execution_count": 29,
   "metadata": {},
   "outputs": [
    {
     "data": {
      "text/plain": [
       "[55, 60]"
      ]
     },
     "execution_count": 29,
     "metadata": {},
     "output_type": "execute_result"
    }
   ],
   "source": [
    "get_numbers([5, 4, 10, 55, 60])"
   ]
  },
  {
   "cell_type": "code",
   "execution_count": 67,
   "metadata": {},
   "outputs": [],
   "source": [
    "lista_num_mayores = [n for n in lista_numeros if n > 10]"
   ]
  },
  {
   "cell_type": "code",
   "execution_count": 68,
   "metadata": {},
   "outputs": [
    {
     "data": {
      "text/plain": [
       "[55, 60]"
      ]
     },
     "execution_count": 68,
     "metadata": {},
     "output_type": "execute_result"
    }
   ],
   "source": [
    "lista_num_mayores"
   ]
  },
  {
   "cell_type": "markdown",
   "metadata": {},
   "source": [
    "**11. Crea una función que, dados 3 números, devuelva la suma de los 2 más altos.**"
   ]
  },
  {
   "cell_type": "code",
   "execution_count": 30,
   "metadata": {},
   "outputs": [],
   "source": [
    "def calcular_suma_2_maximos(num_1, num_2, num_3): #Esta función recibe tres números y devuelve otro número.\n",
    "    lista_numeros = [num_1, num_2, num_3]\n",
    "    maximo_1 = max(lista_numeros)\n",
    "    lista_numeros.remove(maximo_1)\n",
    "    maximo_2 = max(lista_numeros)\n",
    "    \n",
    "    return maximo_1 + maximo_2  "
   ]
  },
  {
   "cell_type": "code",
   "execution_count": 31,
   "metadata": {},
   "outputs": [
    {
     "data": {
      "text/plain": [
       "17.8"
      ]
     },
     "execution_count": 31,
     "metadata": {},
     "output_type": "execute_result"
    }
   ],
   "source": [
    "calcular_suma_2_maximos(3.8, 9, 8.8)                     "
   ]
  },
  {
   "cell_type": "code",
   "execution_count": 32,
   "metadata": {},
   "outputs": [],
   "source": [
    "prueba_calcular_suma_2_maximos = calcular_suma_2_maximos(3.8, 9, 8.8)"
   ]
  },
  {
   "cell_type": "code",
   "execution_count": 33,
   "metadata": {},
   "outputs": [
    {
     "data": {
      "text/plain": [
       "float"
      ]
     },
     "execution_count": 33,
     "metadata": {},
     "output_type": "execute_result"
    }
   ],
   "source": [
    "type(prueba_calcular_suma_2_maximos)"
   ]
  },
  {
   "cell_type": "markdown",
   "metadata": {},
   "source": [
    "**12. Crea una función que reciba una lista y dos números, y devuelva una lista nueva sólo con los valores de la original que se encuentran entre los dos números.**"
   ]
  },
  {
   "cell_type": "code",
   "execution_count": 34,
   "metadata": {},
   "outputs": [],
   "source": [
    "def filtrar_entre_valores(lista_num, numero_menor, numero_mayor):\n",
    "    Lista_filtrada = []\n",
    "    for x in lista_num:\n",
    "        \n",
    "        if numero_menor <= x <= numero_mayor:\n",
    "                Lista_filtrada.append(x)\n",
    "        elif numero_mayor <= x <= numero_menor:\n",
    "                Lista_filtrada.append(x)\n",
    "            \n",
    "    return Lista_filtrada"
   ]
  },
  {
   "cell_type": "code",
   "execution_count": 35,
   "metadata": {},
   "outputs": [],
   "source": [
    "lista_prueba = [1, 5, 7, 9, 10, 15, 20, 25]"
   ]
  },
  {
   "cell_type": "code",
   "execution_count": 37,
   "metadata": {},
   "outputs": [
    {
     "data": {
      "text/plain": [
       "[10, 15]"
      ]
     },
     "execution_count": 37,
     "metadata": {},
     "output_type": "execute_result"
    }
   ],
   "source": [
    "filtrar_entre_valores(lista_prueba, 15, 10)"
   ]
  }
 ],
 "metadata": {
  "kernelspec": {
   "display_name": "Python 3 (ipykernel)",
   "language": "python",
   "name": "python3"
  },
  "language_info": {
   "codemirror_mode": {
    "name": "ipython",
    "version": 3
   },
   "file_extension": ".py",
   "mimetype": "text/x-python",
   "name": "python",
   "nbconvert_exporter": "python",
   "pygments_lexer": "ipython3",
   "version": "3.9.12"
  },
  "toc": {
   "base_numbering": 1,
   "nav_menu": {},
   "number_sections": false,
   "sideBar": true,
   "skip_h1_title": true,
   "title_cell": "Table of Contents",
   "title_sidebar": "Contents",
   "toc_cell": false,
   "toc_position": {
    "height": "calc(100% - 180px)",
    "left": "10px",
    "top": "150px",
    "width": "305.9px"
   },
   "toc_section_display": true,
   "toc_window_display": true
  },
  "varInspector": {
   "cols": {
    "lenName": 16,
    "lenType": 16,
    "lenVar": 40
   },
   "kernels_config": {
    "python": {
     "delete_cmd_postfix": "",
     "delete_cmd_prefix": "del ",
     "library": "var_list.py",
     "varRefreshCmd": "print(var_dic_list())"
    },
    "r": {
     "delete_cmd_postfix": ") ",
     "delete_cmd_prefix": "rm(",
     "library": "var_list.r",
     "varRefreshCmd": "cat(var_dic_list()) "
    }
   },
   "position": {
    "height": "228.4px",
    "left": "964.4px",
    "right": "20px",
    "top": "23px",
    "width": "350px"
   },
   "types_to_exclude": [
    "module",
    "function",
    "builtin_function_or_method",
    "instance",
    "_Feature"
   ],
   "window_display": false
  }
 },
 "nbformat": 4,
 "nbformat_minor": 4
}
